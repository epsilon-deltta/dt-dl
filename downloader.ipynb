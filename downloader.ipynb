{
 "cells": [
  {
   "cell_type": "markdown",
   "id": "cd14c28e-745a-40f7-a8ce-b44e22004513",
   "metadata": {},
   "source": [
    "### voc 07/12 "
   ]
  },
  {
   "cell_type": "code",
   "execution_count": 1,
   "id": "87e6c6ad-9ea1-48bf-9dc5-ff9720a6e108",
   "metadata": {
    "collapsed": true,
    "jupyter": {
     "outputs_hidden": true
    },
    "tags": []
   },
   "outputs": [
    {
     "name": "stdout",
     "output_type": "stream",
     "text": [
      "URL transformed to HTTPS due to an HSTS policy\n",
      "--2021-06-04 16:03:40--  https://pjreddie.com/media/files/VOCtrainval_06-Nov-2007.tar\n",
      "Resolving pjreddie.com (pjreddie.com)... 128.208.4.108\n",
      "Connecting to pjreddie.com (pjreddie.com)|128.208.4.108|:443... connected.\n",
      "HTTP request sent, awaiting response... 200 OK\n",
      "Length: 460032000 (439M) [application/octet-stream]\n",
      "Saving to: ‘VOCtrainval_06-Nov-2007.tar’\n",
      "\n",
      "VOCtrainval_06-Nov- 100%[===================>] 438.72M  8.91MB/s    in 56s     \n",
      "\n",
      "2021-06-04 16:04:36 (7.90 MB/s) - ‘VOCtrainval_06-Nov-2007.tar’ saved [460032000/460032000]\n",
      "\n",
      "URL transformed to HTTPS due to an HSTS policy\n",
      "--2021-06-04 16:04:36--  https://pjreddie.com/media/files/VOCtest_06-Nov-2007.tar\n",
      "Resolving pjreddie.com (pjreddie.com)... 128.208.4.108\n",
      "Connecting to pjreddie.com (pjreddie.com)|128.208.4.108|:443... connected.\n",
      "HTTP request sent, awaiting response... 200 OK\n",
      "Length: 451020800 (430M) [application/octet-stream]\n",
      "Saving to: ‘VOCtest_06-Nov-2007.tar’\n",
      "\n",
      "VOCtest_06-Nov-2007 100%[===================>] 430.13M  8.87MB/s    in 68s     \n",
      "\n",
      "2021-06-04 16:05:45 (6.37 MB/s) - ‘VOCtest_06-Nov-2007.tar’ saved [451020800/451020800]\n",
      "\n",
      "URL transformed to HTTPS due to an HSTS policy\n",
      "--2021-06-04 16:05:45--  https://pjreddie.com/media/files/VOCtrainval_11-May-2012.tar\n",
      "Resolving pjreddie.com (pjreddie.com)... 128.208.4.108\n",
      "Connecting to pjreddie.com (pjreddie.com)|128.208.4.108|:443... connected.\n",
      "HTTP request sent, awaiting response... 200 OK\n",
      "Length: 1999639040 (1.9G) [application/octet-stream]\n",
      "Saving to: ‘VOCtrainval_11-May-2012.tar’\n",
      "\n",
      "VOCtrainval_11-May-  90%[=================>  ]   1.68G  1.49MB/s    in 9m 28s  \n",
      "\n",
      "2021-06-04 16:15:14 (3.03 MB/s) - Connection closed at byte 1803861706. Retrying.\n",
      "\n",
      "--2021-06-04 16:15:15--  (try: 2)  https://pjreddie.com/media/files/VOCtrainval_11-May-2012.tar\n",
      "Connecting to pjreddie.com (pjreddie.com)|128.208.4.108|:443... connected.\n",
      "HTTP request sent, awaiting response... 206 Partial Content\n",
      "Length: 1999639040 (1.9G), 195777334 (187M) remaining [application/octet-stream]\n",
      "Saving to: ‘VOCtrainval_11-May-2012.tar’\n",
      "\n",
      "VOCtrainval_11-May-  92%[++++++++++++++++++  ]   1.73G  87.4KB/s    in 2m 29s  \n",
      "\n",
      "2021-06-04 16:17:45 (349 KB/s) - Connection closed at byte 1857109351. Retrying.\n",
      "\n",
      "--2021-06-04 16:17:47--  (try: 3)  https://pjreddie.com/media/files/VOCtrainval_11-May-2012.tar\n",
      "Connecting to pjreddie.com (pjreddie.com)|128.208.4.108|:443... connected.\n",
      "HTTP request sent, awaiting response... 206 Partial Content\n",
      "Length: 1999639040 (1.9G), 142529689 (136M) remaining [application/octet-stream]\n",
      "Saving to: ‘VOCtrainval_11-May-2012.tar’\n",
      "\n",
      "VOCtrainval_11-May- 100%[++++++++++++++++++=>]   1.86G  2.33MB/s    in 60s     \n",
      "\n",
      "2021-06-04 16:18:47 (2.27 MB/s) - ‘VOCtrainval_11-May-2012.tar’ saved [1999639040/1999639040]\n",
      "\n",
      "URL transformed to HTTPS due to an HSTS policy\n",
      "--2021-06-04 16:18:47--  https://pjreddie.com/media/files/VOC2012test.tar\n",
      "Resolving pjreddie.com (pjreddie.com)... 128.208.4.108\n",
      "Connecting to pjreddie.com (pjreddie.com)|128.208.4.108|:443... connected.\n",
      "HTTP request sent, awaiting response... 200 OK\n",
      "Length: 1850626560 (1.7G) [application/octet-stream]\n",
      "Saving to: ‘VOC2012test.tar’\n",
      "\n",
      "VOC2012test.tar     100%[===================>]   1.72G  9.36MB/s    in 4m 1s   \n",
      "\n",
      "2021-06-04 16:22:49 (7.33 MB/s) - ‘VOC2012test.tar’ saved [1850626560/1850626560]\n",
      "\n"
     ]
    }
   ],
   "source": [
    "# download voc2007,2012 \n",
    "!wget http://pjreddie.com/media/files/VOCtrainval_06-Nov-2007.tar\n",
    "!wget http://pjreddie.com/media/files/VOCtest_06-Nov-2007.tar\n",
    "!wget http://pjreddie.com/media/files/VOCtrainval_11-May-2012.tar\n",
    "!wget http://pjreddie.com/media/files/VOC2012test.tar\n",
    "\n",
    "!tar -xf VOCtrainval_06-Nov-2007.tar \n",
    "!tar -xf VOCtest_06-Nov-2007.tar \n",
    "!tar -xf VOCtrainval_11-May-2012.tar \n",
    "!tar -xf VOC2012test.tar\n",
    "\n",
    "!rm  VOCtrainval_06-Nov-2007.tar\n",
    "!rm  VOCtest_06-Nov-2007.tar \n",
    "!rm  VOCtrainval_11-May-2012.tar \n",
    "!rm  VOC2012test.tar\n",
    "# integrated voc2007&voc2012 split data\n"
   ]
  },
  {
   "cell_type": "markdown",
   "id": "1e260ddc-549a-4185-a5ec-5be627aec973",
   "metadata": {},
   "source": [
    "### COCO "
   ]
  },
  {
   "cell_type": "code",
   "execution_count": 8,
   "id": "d6caf424-fa31-4f1b-b8b9-4a2180f72a2c",
   "metadata": {
    "tags": []
   },
   "outputs": [],
   "source": [
    "# 2017 download\n",
    "# !axel http://images.cocodataset.org/zips/train2017.zip\n",
    "# !axel http://images.cocodataset.org/zips/val2017.zip\n",
    "# !axel http://images.cocodataset.org/zips/test2017.zip\n",
    "    \n",
    "!axel --quiet http://images.cocodataset.org/zips/unlabeled2017.zip\n",
    "\n",
    "!axel --quiet http://images.cocodataset.org/annotations/annotations_trainval2017.zip\n",
    "!axel --quiet http://images.cocodataset.org/annotations/stuff_annotations_trainval2017.zip\n",
    "!axel --quiet http://images.cocodataset.org/annotations/panoptic_annotations_trainval2017.zip\n",
    "# !axel http://images.cocodataset.org/annotations/image_info_test2017.zip\n",
    "# !axel http://images.cocodataset.org/annotations/image_info_unlabeled2017.zip\n",
    "    "
   ]
  },
  {
   "cell_type": "code",
   "execution_count": 55,
   "id": "8214ab42-b043-4292-a214-633dfca5a911",
   "metadata": {
    "tags": []
   },
   "outputs": [],
   "source": [
    "# unzip to coco/*\n",
    "!unzip -q ./train2017.zip -d ./coco\n",
    "!unzip -q ./val2017.zip   -d ./coco\n",
    "!unzip -q ./test2017.zip  -d ./coco\n",
    "\n",
    "!unzip -q ./annotations_trainval2017.zip -d ./coco\n",
    "!unzip -q ./image_info_test2017.zip      -d ./coco"
   ]
  },
  {
   "cell_type": "code",
   "execution_count": 37,
   "id": "725f883f-65a5-45a6-b1b9-51268ca096b0",
   "metadata": {},
   "outputs": [
    {
     "name": "stdout",
     "output_type": "stream",
     "text": [
      "\n",
      "\n"
     ]
    }
   ],
   "source": [
    "# 2014 download\n",
    "!axel --quiet http://images.cocodataset.org/zips/train2014.zip\n",
    "!axel --quiet http://images.cocodataset.org/zips/val2014.zip\n",
    "!axel --quiet http://images.cocodataset.org/zips/test2014.zip        \n",
    "    \n",
    "!axel --quiet http://images.cocodataset.org/annotations/annotations_trainval2014.zip\n",
    "!axel --quiet http://images.cocodataset.org/annotations/image_info_test2014.zip\n",
    "# import subprocess as sbp\n",
    "# from threading import Thread\n",
    "# import os\n",
    "# coco2014 = []\n",
    "# coco2014.append('http://images.cocodataset.org/zips/train2014.zip')\n",
    "# coco2014.append('http://images.cocodataset.org/zips/val2014.zip')\n",
    "# coco2014.append('http://images.cocodataset.org/zips/test2014.zip')\n",
    "\n",
    "# coco2014.append('http://images.cocodataset.org/annotations/annotations_trainval2014.zip')\n",
    "# coco2014.append('http://images.cocodataset.org/annotations/image_info_test2014.zip')\n",
    "\n",
    "# def download(url):\n",
    "#     print(os.popen(f'axel --quiet {url}').read())\n",
    "\n",
    "# for coco in coco2014:\n",
    "#     Thread(target=download,args=(coco,)).start()"
   ]
  },
  {
   "cell_type": "code",
   "execution_count": 56,
   "id": "5eb50a07-5748-4d68-bb77-f477a7b36275",
   "metadata": {},
   "outputs": [
    {
     "name": "stdout",
     "output_type": "stream",
     "text": [
      "[./test2014.zip]\n",
      "  End-of-central-directory signature not found.  Either this file is not\n",
      "  a zipfile, or it constitutes one disk of a multi-part archive.  In the\n",
      "  latter case the central directory and zipfile comment will be found on\n",
      "  the last disk(s) of this archive.\n",
      "unzip:  cannot find zipfile directory in one of ./test2014.zip or\n",
      "        ./test2014.zip.zip, and cannot find ./test2014.zip.ZIP, period.\n"
     ]
    }
   ],
   "source": [
    "# unzip to coco/*\n",
    "!unzip -q ./train2014.zip -d ./coco\n",
    "!unzip -q ./val2014.zip   -d ./coco\n",
    "!unzip -q ./test2014.zip  -d ./coco\n",
    "\n",
    "!unzip -q ./annotations_trainval2014.zip -d ./coco\n",
    "!unzip -q ./image_info_test2014.zip      -d ./coco"
   ]
  },
  {
   "cell_type": "markdown",
   "id": "95a7a35c-e5a2-4377-9778-5c8d419c75a1",
   "metadata": {},
   "source": [
    "### Penn-Fudan Database \n",
    "for Pedestrian Detection and Segmentation"
   ]
  },
  {
   "cell_type": "code",
   "execution_count": 4,
   "id": "4aedcbeb-9a8b-4e16-ac83-985779b5031a",
   "metadata": {},
   "outputs": [],
   "source": [
    "# download the Penn-Fudan dataset\n",
    "!wget https://www.cis.upenn.edu/~jshi/ped_html/PennFudanPed.zip #axel doesn't work \n",
    "\n",
    "!unzip -q PennFudanPed.zip"
   ]
  },
  {
   "cell_type": "code",
   "execution_count": null,
   "id": "974906a0-fa2a-4b8e-b481-60a93d219922",
   "metadata": {},
   "outputs": [],
   "source": [
    "#  torch dataset\n",
    "import os\n",
    "import numpy as np\n",
    "import torch\n",
    "import torch.utils.data\n",
    "from PIL import Image\n",
    "  \n",
    "class PennFudanDataset(torch.utils.data.Dataset):\n",
    "    def __init__(self, root, transforms=None):\n",
    "        self.root = root\n",
    "        self.transforms = transforms\n",
    "        # load all image files, sorting them to\n",
    "        # ensure that they are aligned\n",
    "        self.imgs = list(sorted(os.listdir(os.path.join(root, \"PNGImages\"))))\n",
    "        self.masks = list(sorted(os.listdir(os.path.join(root, \"PedMasks\"))))\n",
    " \n",
    "    def __getitem__(self, idx):\n",
    "        # load images ad masks\n",
    "        img_path = os.path.join(self.root, \"PNGImages\", self.imgs[idx])\n",
    "        mask_path = os.path.join(self.root, \"PedMasks\", self.masks[idx])\n",
    "        img = Image.open(img_path).convert(\"RGB\")\n",
    "        # note that we haven't converted the mask to RGB,\n",
    "        # because each color corresponds to a different instance\n",
    "        # with 0 being background\n",
    "        mask = Image.open(mask_path)\n",
    " \n",
    "        mask = np.array(mask)\n",
    "        # instances are encoded as different colors\n",
    "        obj_ids = np.unique(mask)\n",
    "        # first id is the background, so remove it\n",
    "        obj_ids = obj_ids[1:]\n",
    " \n",
    "        # split the color-encoded mask into a set\n",
    "        # of binary masks\n",
    "        masks = mask == obj_ids[:, None, None]\n",
    " \n",
    "        # get bounding box coordinates for each mask\n",
    "        num_objs = len(obj_ids)\n",
    "        boxes = []\n",
    "        for i in range(num_objs):\n",
    "            pos = np.where(masks[i])\n",
    "            xmin = np.min(pos[1])\n",
    "            xmax = np.max(pos[1])\n",
    "            ymin = np.min(pos[0])\n",
    "            ymax = np.max(pos[0])\n",
    "            boxes.append([xmin, ymin, xmax, ymax])\n",
    " \n",
    "        boxes = torch.as_tensor(boxes, dtype=torch.float32)\n",
    "        # there is only one class\n",
    "        labels = torch.ones((num_objs,), dtype=torch.int64)\n",
    "        masks = torch.as_tensor(masks, dtype=torch.uint8)\n",
    " \n",
    "        image_id = torch.tensor([idx])\n",
    "        area = (boxes[:, 3] - boxes[:, 1]) * (boxes[:, 2] - boxes[:, 0])\n",
    "        # suppose all instances are not crowd\n",
    "        iscrowd = torch.zeros((num_objs,), dtype=torch.int64)\n",
    " \n",
    "        target = {}\n",
    "        target[\"boxes\"] = boxes\n",
    "        target[\"labels\"] = labels\n",
    "        target[\"masks\"] = masks\n",
    "        target[\"image_id\"] = image_id\n",
    "        target[\"area\"] = area\n",
    "        target[\"iscrowd\"] = iscrowd\n",
    " \n",
    "        if self.transforms is not None:\n",
    "            img, target = self.transforms(img, target)\n",
    " \n",
    "        return img, target\n",
    " \n",
    "    def __len__(self):\n",
    "        return len(self.imgs)\n"
   ]
  },
  {
   "cell_type": "markdown",
   "id": "c6b32353-813f-4d61-abf5-b96bb5be1b8b",
   "metadata": {},
   "source": [
    "### [k-fashion](https://dacon.io/competitions/official/235672/data) "
   ]
  },
  {
   "cell_type": "code",
   "execution_count": null,
   "id": "9e9057fa-6c13-43c1-b5df-964d4980657c",
   "metadata": {},
   "outputs": [],
   "source": [
    "FILENAME = 'fashion'\n",
    "FILEID   = '1y-T6QE4fWZaytald-DwKNnwPiFTRMFws'\n",
    "!wget --load-cookies ~/cookies.txt \"https://docs.google.com/uc?export=download&confirm=$(wget --quiet --save-cookies ~/cookies.txt --keep-session-cookies --no-check-certificate 'https://docs.google.com/uc?export=download&id={FILEID}' -O- | sed -rn 's/.*confirm=([0-9A-Za-z_]+).*/\\1\\n/p')&id={FILEID}\" -O {FILENAME} && rm -rf ~/cookies.txt\n",
    "!unzip -q ./fashion.zip -d ./k-fashion"
   ]
  },
  {
   "cell_type": "code",
   "execution_count": 1,
   "id": "0b461e75-6824-4730-9bdd-9f076d0fc6cf",
   "metadata": {
    "collapsed": true,
    "jupyter": {
     "outputs_hidden": true
    },
    "tags": []
   },
   "outputs": [
    {
     "ename": "TypeError",
     "evalue": "makedirs() missing 1 required positional argument: 'name'",
     "output_type": "error",
     "traceback": [
      "\u001b[0;31m---------------------------------------------------------------------------\u001b[0m",
      "\u001b[0;31mTypeError\u001b[0m                                 Traceback (most recent call last)",
      "\u001b[0;32m<ipython-input-1-cf877dd1c643>\u001b[0m in \u001b[0;36m<module>\u001b[0;34m\u001b[0m\n\u001b[1;32m      1\u001b[0m \u001b[0;32mimport\u001b[0m \u001b[0mos\u001b[0m\u001b[0;34m\u001b[0m\u001b[0;34m\u001b[0m\u001b[0m\n\u001b[0;32m----> 2\u001b[0;31m \u001b[0mos\u001b[0m\u001b[0;34m.\u001b[0m\u001b[0mmakedirs\u001b[0m\u001b[0;34m(\u001b[0m\u001b[0;34m)\u001b[0m\u001b[0;34m\u001b[0m\u001b[0;34m\u001b[0m\u001b[0m\n\u001b[0m",
      "\u001b[0;31mTypeError\u001b[0m: makedirs() missing 1 required positional argument: 'name'"
     ]
    }
   ],
   "source": [
    "import os\n",
    "os.makedirs('k-fashion',exist_ok=True)"
   ]
  },
  {
   "cell_type": "code",
   "execution_count": null,
   "id": "c328c77e-0332-416e-9497-30321236afef",
   "metadata": {},
   "outputs": [],
   "source": [
    "\n"
   ]
  }
 ],
 "metadata": {
  "kernelspec": {
   "display_name": "p36_kernel",
   "language": "python",
   "name": "p36"
  },
  "language_info": {
   "codemirror_mode": {
    "name": "ipython",
    "version": 3
   },
   "file_extension": ".py",
   "mimetype": "text/x-python",
   "name": "python",
   "nbconvert_exporter": "python",
   "pygments_lexer": "ipython3",
   "version": "3.6.13"
  }
 },
 "nbformat": 4,
 "nbformat_minor": 5
}
